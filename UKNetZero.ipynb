{
 "cells": [
  {
   "cell_type": "markdown",
   "id": "f22b8ee5",
   "metadata": {},
   "source": [
    "# UK Net Zero\n",
    "\n",
    "#### Introduction\n",
    "\n",
    "#### What are emissions? [^1], [^2], [^3]\n",
    "Emissions refer to the the pollutans humans release in the atmosphere through their activities. These range from greenhouse gases (such as CO2, HFC or methane), air pollutants (CO, black smoke or benzene), heavy metals (arsenic, mercury or lead) or particulate matter (PM10, PM2.5, PM1 or PM0.1).\n",
    "\n",
    "Carbon is usually the main reference to emissions in the media. That is mainly because 5 million metric tons of carbon produced by humans remains in the atmosphere each year. This raises the global average of CO2 by 2.3 part per million every year. This means that, since 1750, humans have increased the amount of CO2 in the atmosphere by 50%. \n",
    "\n",
    "The Kyoto Protocol, which entered into force in 2005, establishes the [UN Framework Convention on Climate Change](https://unfccc.int/process-and-meetings/the-convention/what-is-the-united-nations-framework-convention-on-climate-change) for industrialised economies to limit and reduce their greenhouse gases emissions. \n",
    "\n",
    "\n",
    "#### What is net zero? Net vs gross zero [^3]\n",
    "\n",
    "Although a broad term, this has been highly used in the public space over the past few years and more so recently. It refers to the reduction of greenhouse gas emissions combined with the removal of such gases from the atmosphere.\n",
    "\n",
    "This is in contrast to gross zero, which refers to reducing all greenhouse gas emissions to zero. Net zero recognises this is a potentially unrealistic goal, as some industries will continue to emit such gases.\n",
    "\n",
    "To allow net zero to be a viable route, the gases emitted by more polluting industries will need to be offset, through means such as natural carbon sinks or as artificial carbon sinks. As research into these artifical technologies is ongoing, the focus is on using natural carbon sinks to capture these gases, using, for e.g., oceans and forests.\n",
    "\n",
    "When the carbon produced is cancelled out by the carbon removed, the UK will be a net zero emitter, which becomes easier as emissions lower further down.\n",
    "\n",
    "#### How are emissions data collected, by whom and how often?\n",
    "\n",
    "\n",
    "\n",
    "---\n",
    "[^1]: https://www.climate.gov/news-features/climate-qa/are-humans-causing-or-contributing-global-warming#:~:text=A%20net%205%20billion%20metric,atmosphere%20by%20nearly%2050%20percent.\n",
    "[^2]: https://naei.beis.gov.uk/data/data-selector?view=pms\n",
    "[^3]: https://www.instituteforgovernment.org.uk/explainers/net-zero-target"
   ]
  },
  {
   "cell_type": "code",
   "execution_count": null,
   "id": "bd698dea",
   "metadata": {},
   "outputs": [],
   "source": []
  }
 ],
 "metadata": {
  "kernelspec": {
   "display_name": "Python 3 (ipykernel)",
   "language": "python",
   "name": "python3"
  },
  "language_info": {
   "codemirror_mode": {
    "name": "ipython",
    "version": 3
   },
   "file_extension": ".py",
   "mimetype": "text/x-python",
   "name": "python",
   "nbconvert_exporter": "python",
   "pygments_lexer": "ipython3",
   "version": "3.9.0"
  }
 },
 "nbformat": 4,
 "nbformat_minor": 5
}
